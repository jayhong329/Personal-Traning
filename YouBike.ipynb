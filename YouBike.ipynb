{
 "cells": [
  {
   "cell_type": "code",
   "execution_count": 2,
   "metadata": {},
   "outputs": [
    {
     "name": "stdout",
     "output_type": "stream",
     "text": [
      "Collecting pandas\n",
      "  Downloading pandas-2.2.2-cp310-cp310-win_amd64.whl.metadata (19 kB)\n",
      "Requirement already satisfied: numpy>=1.22.4 in c:\\users\\user\\anaconda3\\envs\\web_scraping\\lib\\site-packages (from pandas) (2.0.0)\n",
      "Requirement already satisfied: python-dateutil>=2.8.2 in c:\\users\\user\\anaconda3\\envs\\web_scraping\\lib\\site-packages (from pandas) (2.9.0.post0)\n",
      "Requirement already satisfied: pytz>=2020.1 in c:\\users\\user\\anaconda3\\envs\\web_scraping\\lib\\site-packages (from pandas) (2024.1)\n",
      "Collecting tzdata>=2022.7 (from pandas)\n",
      "  Using cached tzdata-2024.1-py2.py3-none-any.whl.metadata (1.4 kB)\n",
      "Requirement already satisfied: six>=1.5 in c:\\users\\user\\anaconda3\\envs\\web_scraping\\lib\\site-packages (from python-dateutil>=2.8.2->pandas) (1.16.0)\n",
      "Downloading pandas-2.2.2-cp310-cp310-win_amd64.whl (11.6 MB)\n",
      "   ---------------------------------------- 0.0/11.6 MB ? eta -:--:--\n",
      "   ---------------------------------------- 0.0/11.6 MB ? eta -:--:--\n",
      "   ---------------------------------------- 0.0/11.6 MB 393.8 kB/s eta 0:00:30\n",
      "   ---------------------------------------- 0.1/11.6 MB 819.2 kB/s eta 0:00:15\n",
      "    --------------------------------------- 0.2/11.6 MB 1.1 MB/s eta 0:00:11\n",
      "    --------------------------------------- 0.3/11.6 MB 1.3 MB/s eta 0:00:09\n",
      "   - -------------------------------------- 0.4/11.6 MB 1.4 MB/s eta 0:00:08\n",
      "   -- ------------------------------------- 0.6/11.6 MB 2.0 MB/s eta 0:00:06\n",
      "   --- ------------------------------------ 1.0/11.6 MB 2.7 MB/s eta 0:00:04\n",
      "   ----- ---------------------------------- 1.5/11.6 MB 3.7 MB/s eta 0:00:03\n",
      "   ------ --------------------------------- 2.0/11.6 MB 4.4 MB/s eta 0:00:03\n",
      "   ------ --------------------------------- 2.0/11.6 MB 4.4 MB/s eta 0:00:03\n",
      "   ------ --------------------------------- 2.0/11.6 MB 4.4 MB/s eta 0:00:03\n",
      "   ------ --------------------------------- 2.0/11.6 MB 4.4 MB/s eta 0:00:03\n",
      "   ---------- ----------------------------- 3.0/11.6 MB 4.7 MB/s eta 0:00:02\n",
      "   ---------- ----------------------------- 3.2/11.6 MB 4.6 MB/s eta 0:00:02\n",
      "   ----------- ---------------------------- 3.5/11.6 MB 4.8 MB/s eta 0:00:02\n",
      "   ------------- -------------------------- 3.9/11.6 MB 5.0 MB/s eta 0:00:02\n",
      "   -------------- ------------------------- 4.3/11.6 MB 5.2 MB/s eta 0:00:02\n",
      "   ---------------- ----------------------- 4.8/11.6 MB 5.4 MB/s eta 0:00:02\n",
      "   ------------------ --------------------- 5.3/11.6 MB 5.7 MB/s eta 0:00:02\n",
      "   ------------------- -------------------- 5.7/11.6 MB 5.9 MB/s eta 0:00:01\n",
      "   --------------------- ------------------ 6.2/11.6 MB 6.1 MB/s eta 0:00:01\n",
      "   ----------------------- ---------------- 6.7/11.6 MB 6.3 MB/s eta 0:00:01\n",
      "   ------------------------ --------------- 7.2/11.6 MB 6.5 MB/s eta 0:00:01\n",
      "   -------------------------- ------------- 7.7/11.6 MB 6.7 MB/s eta 0:00:01\n",
      "   ---------------------------- ----------- 8.2/11.6 MB 6.8 MB/s eta 0:00:01\n",
      "   ----------------------------- ---------- 8.7/11.6 MB 7.0 MB/s eta 0:00:01\n",
      "   ------------------------------- -------- 9.2/11.6 MB 7.1 MB/s eta 0:00:01\n",
      "   --------------------------------- ------ 9.8/11.6 MB 7.3 MB/s eta 0:00:01\n",
      "   ----------------------------------- ---- 10.3/11.6 MB 7.9 MB/s eta 0:00:01\n",
      "   ------------------------------------- -- 10.8/11.6 MB 9.1 MB/s eta 0:00:01\n",
      "   ---------------------------------------  11.4/11.6 MB 9.2 MB/s eta 0:00:01\n",
      "   ---------------------------------------  11.6/11.6 MB 9.4 MB/s eta 0:00:01\n",
      "   ---------------------------------------- 11.6/11.6 MB 9.0 MB/s eta 0:00:00\n",
      "Using cached tzdata-2024.1-py2.py3-none-any.whl (345 kB)\n",
      "Installing collected packages: tzdata, pandas\n",
      "Successfully installed pandas-2.2.2 tzdata-2024.1\n"
     ]
    }
   ],
   "source": [
    "!pip install pandas"
   ]
  },
  {
   "cell_type": "code",
   "execution_count": 12,
   "metadata": {},
   "outputs": [
    {
     "name": "stdout",
     "output_type": "stream",
     "text": [
      "YouBike2.0_捷運科技大樓站\n",
      "16\n",
      "12\n",
      "{\"status\":200,\"message\":\"ok\"}\n",
      "YouBike2.0_復興南路二段273號前\n",
      "15\n",
      "6\n",
      "{\"status\":200,\"message\":\"ok\"}\n"
     ]
    }
   ],
   "source": [
    "import requests as req\n",
    "import pandas as pd\n",
    "\n",
    "# YouBike2.0臺北市公共自行車即時資訊\n",
    "url = 'https://tcgbusfs.blob.core.windows.net/dotapp/youbike/v2/youbike_immediate.json'\n",
    "res = req.get(url)\n",
    "list_bike = res.json()\n",
    "\n",
    "df = pd.DataFrame(list_bike)\n",
    "df\n",
    "\n",
    "for index, o  in enumerate(list_bike):\n",
    "    if index == 2: break\n",
    "\n",
    "    print(o[\"sna\"])\n",
    "    print(o[\"available_rent_bikes\"])\n",
    "    print(o[\"available_return_bikes\"])\n",
    "\n",
    "\n",
    "    url_notify  = 'https://notify-api.line.me/api/notify'\n",
    "    token = 'qIz25RxBkz1RflFUi2FiV2nv5XLC36w77t2C3EWTkaN'\n",
    "    headers = {\n",
    "        'Authorization': 'Bearer ' + token\n",
    "    }\n",
    "    message = f\"\\n站別: {o['sna']}\\n可租數量: {o['available_rent_bikes']}\\n可還數量: {o['available_return_bikes']}\"\n",
    "    data_notify = {\n",
    "        'message': message\n",
    "    }\n",
    "\n",
    "    response = req.post(url_notify, headers=headers, data=data_notify)\n",
    "    print(response.text)"
   ]
  },
  {
   "cell_type": "code",
   "execution_count": 13,
   "metadata": {},
   "outputs": [
    {
     "name": "stdout",
     "output_type": "stream",
     "text": [
      "YouBike站別： \n",
      "923             YouBike2.0_承德路七段304巷口\n",
      "924                 YouBike2.0_洲美運動公園\n",
      "925                YouBike2.0_榮華二明德路口\n",
      "926            YouBike2.0_捷運明德站(1號出口)\n",
      "927                 YouBike2.0_文林建民路口\n",
      "                    ...              \n",
      "1014               YouBike2.0_中國電影製片廠\n",
      "1015                YouBike2.0_北投新興公園\n",
      "1016    YouBike2.0_捷運石牌站(2號出口)(西安街一段)\n",
      "1017                YouBike2.0_華碩立功大樓\n",
      "1018                  YouBike2.0_關渡碼頭\n",
      "Name: sna, Length: 96, dtype: object\n",
      "可借數量：\n",
      "923      2\n",
      "924     10\n",
      "925      2\n",
      "926      6\n",
      "927      0\n",
      "        ..\n",
      "1014     2\n",
      "1015     8\n",
      "1016     3\n",
      "1017     9\n",
      "1018    14\n",
      "Name: available_rent_bikes, Length: 96, dtype: int64\n",
      "可還數量：\n",
      "923     18\n",
      "924     10\n",
      "925     28\n",
      "926     17\n",
      "927     25\n",
      "        ..\n",
      "1014    12\n",
      "1015     7\n",
      "1016    20\n",
      "1017     6\n",
      "1018    35\n",
      "Name: available_return_bikes, Length: 96, dtype: int64\n"
     ]
    }
   ],
   "source": [
    "# 取得 YouBike2.0 資料\n",
    "url = 'https://tcgbusfs.blob.core.windows.net/dotapp/youbike/v2/youbike_immediate.json'\n",
    "res = req.get(url)\n",
    "list_bike = res.json()\n",
    "\n",
    "# 創建 DataFrame\n",
    "df = pd.DataFrame(list_bike)\n",
    "\n",
    "# 篩選出 \"北投區\" 的資料\n",
    "betou_bikes = df[df[\"sarea\"] == \"北投區\"]\n",
    "\n",
    "# 顯示 \"北投區\" 的資料\n",
    "print(f'YouBike站別： \\n{betou_bikes[\"sna\"]}')\n",
    "print(f'可借數量：\\n{betou_bikes[\"available_rent_bikes\"]}')\n",
    "print(f'可還數量：\\n{betou_bikes[\"available_return_bikes\"]}')\n",
    "# print(betou_bikes)\n"
   ]
  },
  {
   "cell_type": "code",
   "execution_count": 14,
   "metadata": {},
   "outputs": [
    {
     "name": "stdout",
     "output_type": "stream",
     "text": [
      "     sarea  total_bikes  available_bikes\n",
      "8      大安區         5092             1856\n",
      "6      士林區         2969             1332\n",
      "1      中正區         3267             1198\n",
      "0      中山區         3914             1140\n",
      "3      內湖區         3521             1056\n",
      "2      信義區         3360             1011\n",
      "4      北投區         2537              967\n",
      "5      南港區         2317              906\n",
      "10     松山區         2366              857\n",
      "9      文山區         2216              710\n",
      "12     萬華區         2057              670\n",
      "7      大同區         1629              492\n",
      "11  臺大公館校區         1970              439\n"
     ]
    }
   ],
   "source": [
    "# 取得 YouBike2.0 資料\n",
    "url = 'https://tcgbusfs.blob.core.windows.net/dotapp/youbike/v2/youbike_immediate.json'\n",
    "res = req.get(url)\n",
    "list_bike = res.json()\n",
    "\n",
    "# 創建 DataFrame\n",
    "df = pd.DataFrame(list_bike)\n",
    "\n",
    "# 依照行政區域分群，並計算每個區域的可租借自行車數量\n",
    "grouped = df.groupby('sarea').agg(\n",
    "    total_bikes=('total', 'sum'),\n",
    "    available_bikes=('available_rent_bikes', 'sum')\n",
    ").reset_index()\n",
    "\n",
    "# 依據可租借自行車數量進行排序\n",
    "sorted_grouped = grouped.sort_values(by='available_bikes', ascending=False)\n",
    "\n",
    "# 顯示結果\n",
    "print(sorted_grouped)"
   ]
  }
 ],
 "metadata": {
  "kernelspec": {
   "display_name": "Python3@ws",
   "language": "python",
   "name": "ws"
  },
  "language_info": {
   "codemirror_mode": {
    "name": "ipython",
    "version": 3
   },
   "file_extension": ".py",
   "mimetype": "text/x-python",
   "name": "python",
   "nbconvert_exporter": "python",
   "pygments_lexer": "ipython3",
   "version": "3.10.14"
  }
 },
 "nbformat": 4,
 "nbformat_minor": 2
}
