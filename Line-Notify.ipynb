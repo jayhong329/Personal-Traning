{
 "cells": [
  {
   "cell_type": "code",
   "execution_count": 1,
   "metadata": {},
   "outputs": [],
   "source": [
    "# 發送 LINE Notify 通知\n",
    "\n",
    "import requests as req\n",
    "\n",
    "url = 'https://notify-api.line.me/api/notify'\n",
    "token = 'qIz25RxBkz1RflFUi2FiV2nv5XLC36w77t2C3EWTkaN'\n",
    "headers = {\n",
    "    'Authorization': 'Bearer ' + token    # 設定權杖\n",
    "}\n",
    "data = {\n",
    "    'message':'測試一下！'     # 設定要發送的訊息\n",
    "}\n",
    "data = req.post(url, headers=headers, data=data)   # 使用 POST 方法"
   ]
  },
  {
   "cell_type": "code",
   "execution_count": null,
   "metadata": {},
   "outputs": [],
   "source": [
    "# 透過 LINE Notify 發送表情貼圖\n",
    "\n",
    "import requests\n",
    "\n",
    "url = 'https://notify-api.line.me/api/notify'\n",
    "token = 'qIz25RxBkz1RflFUi2FiV2nv5XLC36w77t2C3EWTkaN'\n",
    "headers = {\n",
    "    'Authorization': 'Bearer ' + token\n",
    "}\n",
    "data = {\n",
    "    'message':'測試發送貼圖！',\n",
    "    'stickerPackageId':'8525',\n",
    "    'stickerId':'16581292'\n",
    "}\n",
    "data = requests.post(url, headers=headers, data=data)"
   ]
  },
  {
   "cell_type": "code",
   "execution_count": 6,
   "metadata": {},
   "outputs": [],
   "source": [
    "# 透過 LINE Notify 發送表情貼圖\n",
    "\n",
    "import requests\n",
    "\n",
    "url = 'https://notify-api.line.me/api/notify'\n",
    "token = 'qIz25RxBkz1RflFUi2FiV2nv5XLC36w77t2C3EWTkaN'\n",
    "headers = {\n",
    "    'Authorization': 'Bearer ' + token\n",
    "}\n",
    "data = {\n",
    "    'message':'測試發送貼圖！',\n",
    "    'stickerPackageId':'6362',\n",
    "    'stickerId':'11087932'\n",
    "}\n",
    "data = requests.post(url, headers=headers, data=data)"
   ]
  },
  {
   "cell_type": "code",
   "execution_count": 10,
   "metadata": {},
   "outputs": [],
   "source": [
    "# 透過 LINE Notify 傳送圖片\n",
    "\n",
    "import requests\n",
    "\n",
    "url = 'https://notify-api.line.me/api/notify'\n",
    "token = 'qIz25RxBkz1RflFUi2FiV2nv5XLC36w77t2C3EWTkaN'\n",
    "headers = {\n",
    "    'Authorization': 'Bearer ' + token\n",
    "}\n",
    "data = {\n",
    "    'message':'測試一下！',\n",
    "    'imageThumbnail':'https://wallpapers.com/images/hd/baby-cat-pictures-id4thz9ga7qcdwsq.jpg',\n",
    "    'imageFullsize':'https://wallpapers.com/images/hd/baby-cat-pictures-id4thz9ga7qcdwsq.jpg'\n",
    "}\n",
    "data = requests.post(url, headers=headers, data=data)"
   ]
  },
  {
   "cell_type": "code",
   "execution_count": null,
   "metadata": {},
   "outputs": [],
   "source": []
  }
 ],
 "metadata": {
  "kernelspec": {
   "display_name": "Python3@ws",
   "language": "python",
   "name": "ws"
  },
  "language_info": {
   "codemirror_mode": {
    "name": "ipython",
    "version": 3
   },
   "file_extension": ".py",
   "mimetype": "text/x-python",
   "name": "python",
   "nbconvert_exporter": "python",
   "pygments_lexer": "ipython3",
   "version": "3.10.14"
  }
 },
 "nbformat": 4,
 "nbformat_minor": 2
}
