{
 "cells": [
  {
   "cell_type": "code",
   "execution_count": 76,
   "metadata": {},
   "outputs": [],
   "source": [
    "import requests as req\n",
    "from bs4 import BeautifulSoup as bs\n",
    "from concurrent.futures import ThreadPoolExecutor"
   ]
  },
  {
   "cell_type": "code",
   "execution_count": 29,
   "metadata": {},
   "outputs": [],
   "source": [
    " # yahoo_stock_URL\n",
    "url = \"https://tw.stock.yahoo.com/quote/8070.TW\"\n",
    "\n",
    "\n",
    "# 用 requests 的 get 方法把網頁抓下來\n",
    "res = req.get(url) \n",
    "\n",
    "# 指定 lxml 作為解析器\n",
    "soup = bs(res.text, \"lxml\") \n"
   ]
  },
  {
   "cell_type": "code",
   "execution_count": 56,
   "metadata": {},
   "outputs": [
    {
     "name": "stdout",
     "output_type": "stream",
     "text": [
      "<h1 class=\"C($c-link-text) Fw(b) Fz(24px) Mend(8px)\">長華*</h1>\n",
      "<span class=\"Fz(32px) Fw(b) Lh(1) Mend(16px) D(f) Ai(c) C($c-trend-up)\">48.70</span>\n",
      "<span class=\"Fz(20px) Fw(b) Lh(1.2) Mend(4px) D(f) Ai(c) C($c-trend-up)\"><span class=\"Mend(4px) Bds(s)\" style=\"border-color:transparent transparent #ff333a transparent;border-width:0 6.5px 9px 6.5px\"></span>1.65</span>\n"
     ]
    }
   ],
   "source": [
    "# 嘗試找到股票名稱.價格.漲跌幅\n",
    "title = soup.select('h1')[1]\n",
    "price = soup.select_one('.Fz\\(32px\\)')\n",
    "percent = soup.select('.Fz\\(20px\\)')[0]\n",
    "status = \"\"\n",
    "print(title)\n",
    "print(price)\n",
    "print(percent)\n"
   ]
  },
  {
   "cell_type": "code",
   "execution_count": 72,
   "metadata": {},
   "outputs": [
    {
     "name": "stdout",
     "output_type": "stream",
     "text": [
      "<span class=\"Fz(32px) Fw(b) Lh(1) Mend(16px) D(f) Ai(c) C($c-trend-up)\">48.70</span>\n",
      "<span class=\"Mstart(5px) C($c-trend-down)\">5,971<span class=\"Fw(n)\">(<!-- -->49.41%<!-- -->)</span></span>\n"
     ]
    }
   ],
   "source": [
    "# 如果 main-0-QuoteHeader-Proxy id 的 div 裡有 C($c-trend-down) 的 class\n",
    "# 表示狀態為下跌\n",
    "down = soup.select_one('.C\\(\\$c-trend-down\\)')\n",
    "\n",
    "# 如果 main-0-QuoteHeader-Proxy id 的 div 裡有 C($c-trend-up) 的 class\n",
    "# 表示狀態為上漲\n",
    "up = soup.select_one('.C\\(\\$c-trend-up\\)')\n",
    "print(up)\n",
    "print(down)"
   ]
  },
  {
   "cell_type": "code",
   "execution_count": 75,
   "metadata": {},
   "outputs": [
    {
     "name": "stdout",
     "output_type": "stream",
     "text": [
      "長華* : 48.70 ( +1.65 )\n"
     ]
    }
   ],
   "source": [
    "if up:\n",
    "    status = '+'\n",
    "elif down:\n",
    "    status = '-'\n",
    "else:\n",
    "    status = ''\n",
    "\n",
    "# 印出結果\n",
    "print(f'{title.get_text()} : {price.get_text()} ( {status}{percent.get_text()} )')  "
   ]
  },
  {
   "cell_type": "code",
   "execution_count": 90,
   "metadata": {},
   "outputs": [
    {
     "name": "stdout",
     "output_type": "stream",
     "text": [
      "長華* : 48.70 ( +1.65 )\n",
      "佳世達 : 34.80 ( +0.05 )\n",
      "南茂 : 37.55 ( +0.20 )\n",
      "華邦電 : 23.95 ( +0.15 )\n"
     ]
    }
   ],
   "source": [
    "#想抓取的股票網址清單\n",
    "stock_urls = [\n",
    "  'https://tw.stock.yahoo.com/quote/8070',\n",
    "  'https://tw.stock.yahoo.com/quote/2352',\n",
    "  'https://tw.stock.yahoo.com/quote/8150',\n",
    "  'https://tw.stock.yahoo.com/quote/2344'\n",
    "]\n",
    "\n",
    "def getStock(stock_urls):\n",
    "    res = req.get(stock_urls) \n",
    "    soup = bs(res.text, \"lxml\") \n",
    "    title = soup.select('h1')[1]\n",
    "    price = soup.select_one('.Fz\\(32px\\)')\n",
    "    percent = soup.select('.Fz\\(20px\\)')[0]\n",
    "    status = \"\"\n",
    "    try:\n",
    "        if up:\n",
    "          status = '+'\n",
    "        elif down:\n",
    "          status = '-'\n",
    "    except:\n",
    "        state = ''\n",
    "    \n",
    "    return f'{title.get_text()} : {price.get_text()} ( {status}{percent.get_text()} )'\n",
    "      \n",
    "# 使用執行緒池來並行抓取股票資訊\n",
    "with ThreadPoolExecutor() as executor:\n",
    "    results = list(executor.map(getStock, stock_urls))  # 收集所有結果\n",
    "\n",
    "# 印出所有結果\n",
    "for result in results:\n",
    "    print(result)"
   ]
  }
 ],
 "metadata": {
  "kernelspec": {
   "display_name": "Python3@ws",
   "language": "python",
   "name": "ws"
  },
  "language_info": {
   "codemirror_mode": {
    "name": "ipython",
    "version": 3
   },
   "file_extension": ".py",
   "mimetype": "text/x-python",
   "name": "python",
   "nbconvert_exporter": "python",
   "pygments_lexer": "ipython3",
   "version": "3.10.14"
  }
 },
 "nbformat": 4,
 "nbformat_minor": 2
}
