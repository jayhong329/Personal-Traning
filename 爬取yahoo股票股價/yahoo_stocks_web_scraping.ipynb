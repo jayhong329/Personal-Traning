{
 "cells": [
  {
   "cell_type": "code",
   "execution_count": 60,
   "metadata": {},
   "outputs": [],
   "source": [
    "import requests as req\n",
    "from bs4 import BeautifulSoup as bs\n",
    "from concurrent.futures import ThreadPoolExecutor\n",
    "import pymysql"
   ]
  },
  {
   "cell_type": "code",
   "execution_count": 61,
   "metadata": {},
   "outputs": [],
   "source": [
    " # yahoo_stock_URL\n",
    "url = \"https://tw.stock.yahoo.com/quote/8070.TW\"\n",
    "\n",
    "\n",
    "# 用 requests 的 get 方法把網頁抓下來\n",
    "res = req.get(url) \n",
    "\n",
    "# 指定 lxml 作為解析器\n",
    "soup = bs(res.text, \"lxml\") \n"
   ]
  },
  {
   "cell_type": "code",
   "execution_count": 62,
   "metadata": {},
   "outputs": [
    {
     "name": "stdout",
     "output_type": "stream",
     "text": [
      "<span class=\"C($c-icon) Fz(24px) Mend(20px)\">8070</span>\n",
      "<h1 class=\"C($c-link-text) Fw(b) Fz(24px) Mend(8px)\">長華*</h1>\n",
      "<span class=\"Fz(32px) Fw(b) Lh(1) Mend(16px) D(f) Ai(c) C($c-trend-down)\">57.9</span>\n",
      "<span class=\"Fz(20px) Fw(b) Lh(1.2) Mend(4px) D(f) Ai(c) C($c-trend-down)\"><span class=\"Mend(4px) Bds(s)\" style=\"border-color:#00ab5e transparent transparent transparent;border-width:9px 6.5px 0 6.5px\"></span>2.00</span>\n"
     ]
    }
   ],
   "source": [
    "# 嘗試找到股票名稱.價格.漲跌幅\n",
    "id = soup.select_one('span.C\\(\\$c-icon\\)')\n",
    "title = soup.select('h1')[1]\n",
    "price = soup.select_one('.Fz\\(32px\\)')\n",
    "percent = soup.select('.Fz\\(20px\\)')[0]\n",
    "status = \"\"\n",
    "print(id)\n",
    "print(title)\n",
    "print(price)\n",
    "print(percent)\n"
   ]
  },
  {
   "cell_type": "code",
   "execution_count": 63,
   "metadata": {},
   "outputs": [
    {
     "name": "stdout",
     "output_type": "stream",
     "text": [
      "8070 長華* : 57.9 ( -2.00 )\n"
     ]
    }
   ],
   "source": [
    "# 如果 main-0-QuoteHeader-Proxy id 的 div 裡有 C($c-trend-down) 的 class\n",
    "# 表示狀態為下跌\n",
    "if soup.select_one('#main-0-QuoteHeader-Proxy .C\\(\\$c-trend-down\\)'):\n",
    "    status= '-'\n",
    "# 如果 main-0-QuoteHeader-Proxy id 的 div 裡有 C($c-trend-up) 的 class\n",
    "# 表示狀態為上漲\n",
    "elif soup.select_one('#main-0-QuoteHeader-Proxy .C\\(\\$c-trend-up\\)'):\n",
    "    status= '+'\n",
    "else:\n",
    "    status = ''\n",
    "    \n",
    "# 印出結果\n",
    "print(f'{id.get_text()} {title.get_text()} : {price.get_text()} ( {status}{percent.get_text()} )')  "
   ]
  },
  {
   "cell_type": "code",
   "execution_count": 64,
   "metadata": {},
   "outputs": [
    {
     "name": "stdout",
     "output_type": "stream",
     "text": [
      "8070 長華* : 57.9 ( -2.00 )\n",
      "2352 佳世達 : 35.60 ( -0.20 )\n",
      "8150 南茂 : 37.40 ( -0.15 )\n",
      "2344 華邦電 : 23.45 ( +0.05 )\n",
      "6120 達運 : 14.45 ( 0.00 )\n",
      "6548 長科* : 39.35 ( -0.45 )\n"
     ]
    }
   ],
   "source": [
    "#想抓取的股票網址清單\n",
    "stock_urls = [\n",
    "  'https://tw.stock.yahoo.com/quote/8070',\n",
    "  'https://tw.stock.yahoo.com/quote/2352',\n",
    "  'https://tw.stock.yahoo.com/quote/8150',\n",
    "  'https://tw.stock.yahoo.com/quote/2344',\n",
    "  'https://tw.stock.yahoo.com/quote/6120',\n",
    "  'https://tw.stock.yahoo.com/quote/6548',\n",
    "\n",
    "]\n",
    "\n",
    "def getStock(stock_urls):\n",
    "    res = req.get(stock_urls) \n",
    "    soup = bs(res.text, \"lxml\")\n",
    "    id = soup.select_one('span.C\\(\\$c-icon\\)')\n",
    "    title = soup.select('h1')[1]\n",
    "    price = soup.select_one('.Fz\\(32px\\)')\n",
    "    percent = soup.select('.Fz\\(20px\\)')[0]\n",
    "    status = \"\"\n",
    "    try:\n",
    "        if soup.select_one('#main-0-QuoteHeader-Proxy .C\\(\\$c-trend-down\\)'):\n",
    "            status= '-'\n",
    "        elif soup.select_one('#main-0-QuoteHeader-Proxy .C\\(\\$c-trend-up\\)'):\n",
    "            status= '+'\n",
    "        else:\n",
    "            status = ''  \n",
    "    except Exception as e:\n",
    "        print(f\"Error in parsing status for {stock_urls}: {e}\")\n",
    "        status = ''\n",
    "    \n",
    "    stock_data = {\n",
    "        'id': id.get_text(),\n",
    "        'name': title.get_text(),\n",
    "        'price': price.get_text(),\n",
    "        'status': status,\n",
    "        'percent': percent.get_text()\n",
    "    }\n",
    "\n",
    "    return f'{stock_data[\"id\"]} {stock_data[\"name\"]} : {stock_data[\"price\"]} ( {stock_data[\"status\"]}{stock_data[\"percent\"]} )'\n",
    "\n",
    "# 使用執行緒池來並行抓取股票資訊\n",
    "with ThreadPoolExecutor() as executor:\n",
    "    results = list(executor.map(getStock, stock_urls))  # 收集所有結果\n",
    "\n",
    "# 印出所有結果\n",
    "for result in results:\n",
    "    print(result)\n",
    "    \n"
   ]
  }
 ],
 "metadata": {
  "kernelspec": {
   "display_name": "Python3@ws",
   "language": "python",
   "name": "ws"
  },
  "language_info": {
   "codemirror_mode": {
    "name": "ipython",
    "version": 3
   },
   "file_extension": ".py",
   "mimetype": "text/x-python",
   "name": "python",
   "nbconvert_exporter": "python",
   "pygments_lexer": "ipython3",
   "version": "3.10.14"
  }
 },
 "nbformat": 4,
 "nbformat_minor": 2
}
